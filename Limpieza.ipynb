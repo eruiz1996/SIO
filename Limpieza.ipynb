{
 "cells": [
  {
   "cell_type": "markdown",
   "id": "070aeb99-2957-4620-8c31-250bd11aef0d",
   "metadata": {},
   "source": [
    "# Importación de módulos"
   ]
  },
  {
   "cell_type": "code",
   "execution_count": 1,
   "id": "2d0fc378-d568-42a0-a98d-1aa9cfd24043",
   "metadata": {},
   "outputs": [],
   "source": [
    "import os\n",
    "import pandas as pd"
   ]
  },
  {
   "cell_type": "markdown",
   "id": "d85a11c9-6ad2-4b30-96b6-39b6b2411d98",
   "metadata": {},
   "source": [
    "# Lectura de la Base de Datos\n",
    "Para descargar la base de datos original se necesita ir a la siguiente [ruta](https://sio.cnsf.gob.mx/)"
   ]
  },
  {
   "cell_type": "markdown",
   "id": "cbb66aff-58a9-4ffe-b600-55fde63b23cc",
   "metadata": {},
   "source": [
    "## Definición de ruta"
   ]
  },
  {
   "cell_type": "code",
   "execution_count": 2,
   "id": "fffd728c-89c4-4505-a2c7-a5e25b30d3b1",
   "metadata": {},
   "outputs": [],
   "source": [
    "read_dir = r'C:\\Users\\ed_22\\Documents\\SIO'\n",
    "read_file = 'ER_dic2023.xlsx'\n",
    "read_path = os.path.join(read_dir, read_file)"
   ]
  },
  {
   "cell_type": "markdown",
   "id": "ff931e27-a31c-4288-9a2c-659065fdf992",
   "metadata": {},
   "source": [
    "## Variables globales"
   ]
  },
  {
   "cell_type": "code",
   "execution_count": 3,
   "id": "8f024bfb-d32e-4e9c-b3ab-d5b634c27490",
   "metadata": {},
   "outputs": [],
   "source": [
    "FIELDS = {\n",
    "    'FECHA_CORTE':'corte',\n",
    "    'NOMBRE_CORTO':'nombre',\n",
    "    'DESCRIPCION':'cuenta',\n",
    "    'DESC_OPERACION':'ramo',\n",
    "    'IMPORTE':'importe'\n",
    "}"
   ]
  },
  {
   "cell_type": "markdown",
   "id": "6499b133",
   "metadata": {},
   "source": [
    "# Lectura de base de datos"
   ]
  },
  {
   "cell_type": "code",
   "execution_count": 4,
   "id": "097b6486-e112-48c1-bf11-036fc7a0028c",
   "metadata": {},
   "outputs": [],
   "source": [
    "ER = pd.read_excel(read_path, usecols=FIELDS.keys()).rename(columns=FIELDS)"
   ]
  },
  {
   "cell_type": "code",
   "execution_count": 5,
   "id": "e1e1345e-4a0f-42c3-88e9-079f23125f33",
   "metadata": {},
   "outputs": [
    {
     "name": "stdout",
     "output_type": "stream",
     "text": [
      "<class 'pandas.core.frame.DataFrame'>\n",
      "RangeIndex: 536897 entries, 0 to 536896\n",
      "Data columns (total 5 columns):\n",
      " #   Column   Non-Null Count   Dtype         \n",
      "---  ------   --------------   -----         \n",
      " 0   corte    536897 non-null  datetime64[ns]\n",
      " 1   nombre   536897 non-null  object        \n",
      " 2   cuenta   536897 non-null  object        \n",
      " 3   ramo     536897 non-null  object        \n",
      " 4   importe  536897 non-null  float64       \n",
      "dtypes: datetime64[ns](1), float64(1), object(3)\n",
      "memory usage: 20.5+ MB\n"
     ]
    }
   ],
   "source": [
    "ER.info()"
   ]
  },
  {
   "cell_type": "code",
   "execution_count": 6,
   "id": "5738719a-80f2-4582-bb3f-2a737b9b507d",
   "metadata": {
    "jupyter": {
     "outputs_hidden": true
    },
    "tags": []
   },
   "outputs": [
    {
     "data": {
      "text/plain": [
       "Seguros Atlas                  17608\n",
       "Seguros Inbursa                14715\n",
       "Mapfre México                  13518\n",
       "Grupo Nacional Provincial      13504\n",
       "AXA Seguros                    13409\n",
       "                               ...  \n",
       "Seguros de Vida Sura México     1084\n",
       "AXA Salud                       1077\n",
       "MBIA México                     1053\n",
       "CRABI                            900\n",
       "Principal Pensiones              678\n",
       "Name: nombre, Length: 114, dtype: int64"
      ]
     },
     "execution_count": 6,
     "metadata": {},
     "output_type": "execute_result"
    }
   ],
   "source": [
    "ER.nombre.value_counts()"
   ]
  },
  {
   "cell_type": "code",
   "execution_count": 7,
   "id": "245ed15a-452f-4b60-8d83-38709cc5f206",
   "metadata": {
    "tags": []
   },
   "outputs": [
    {
     "data": {
      "text/plain": [
       "array(['Total', '*Fianzas', '**Fidelidad', '***Individual',\n",
       "       '***Colectivo', '**Judicial o Penal', '***Penales',\n",
       "       '***No penales', '***Amparan conductores de automóviles',\n",
       "       '**Administrativo', '***Por Obra', '***Proveeduría', '***Fiscales',\n",
       "       '***Arrendamiento', '***Otras de Administrativo', '**De crédito',\n",
       "       '***Suministro', '***Compra Venta', '***Otras de Crédito',\n",
       "       '***Financiera', '*Da?os', '**Garantía financiera',\n",
       "       '*Accidentes y Enfermedades', '***Gastos Médicos', '***Salud',\n",
       "       '***Accidentes Personales', '*Pensiones',\n",
       "       '***IMSS Incapacidad Permanente RT',\n",
       "       '***IMSS Muerte (riesgos de trabajo)',\n",
       "       '***IMSS Invalidez (invalidez y vida)',\n",
       "       '***IMSS Muerte (invalidez y vida)',\n",
       "       '***IMSS Jubilación (retiro, cesantía y vejez)',\n",
       "       '***ISSSTE Incapacidad Permanente RT',\n",
       "       '***ISSSTE Muerte (riesgos de trabajo)',\n",
       "       '***ISSSTE Invalidez (invalidez y vida)',\n",
       "       '***ISSSTE Muerte (invalidez y vida)',\n",
       "       '***ISSSTE Jubilación (retiro, cesantía y vejez)', '*Vida',\n",
       "       '***Vida Individual', '***Vida Grupo', '***Vida Colectivo',\n",
       "       '**Responsabilidad Civil y Riesgos Profesionales', '***General',\n",
       "       '***Aviones y Barcos', '***Viajero', '**Marítimo y Transportes',\n",
       "       '***Carga', '***Cascos', '**Incendio', '**Riesgos Catastróficos',\n",
       "       '***Terremoto y Erupción Volcánica',\n",
       "       '***Huracán y Otros Riesgos Hidrometeorológicos',\n",
       "       '**Agrícola y de animales', '***Agrícola', '**Automóviles',\n",
       "       '***Automóviles Residentes', '***Camiones',\n",
       "       '***Automóviles Turistas', '**Diversos', '***Misceláneos',\n",
       "       '***Técnicos', '***Otros', '***Obligatorios', '**Crédito',\n",
       "       '***Pecuario', '**Reafianzamiento', '***Fidelidad',\n",
       "       '***Administrativo', '***Judicial o Penal', '***De crédito',\n",
       "       '**Crédito a la vivienda', '**Caución', '***De Crédito'],\n",
       "      dtype=object)"
      ]
     },
     "execution_count": 7,
     "metadata": {},
     "output_type": "execute_result"
    }
   ],
   "source": [
    "ER.ramo.unique()"
   ]
  },
  {
   "cell_type": "code",
   "execution_count": 11,
   "id": "a098b10e-67cc-4d3b-8a0c-6fdfd9d401e9",
   "metadata": {
    "scrolled": true,
    "tags": []
   },
   "outputs": [
    {
     "data": {
      "text/plain": [
       "array(['Directo', 'Primas Cedidas', 'Primas De Retención',\n",
       "       'Primas de Retención Devengadas', 'Costo Neto de Adquisición',\n",
       "       'Comisiones a Agentes',\n",
       "       'Costo Neto de Siniestralidad, Reclamaciones y Otras Obligaciones Pendientes de Cumplir',\n",
       "       'Utilidad (Pérdida) Técnica', 'Gastos de Operación Netos',\n",
       "       'Resultado Integral de Financiamiento',\n",
       "       'Utilidad (Pérdida) antes de Impuestos a la Utilidad',\n",
       "       'Utilidad  (Pérdida) del Ejercicio',\n",
       "       'Utilidad (Pérdida) de la Operación', 'Tomado',\n",
       "       'Compensaciones Adicionales a Agentes'], dtype=object)"
      ]
     },
     "execution_count": 11,
     "metadata": {},
     "output_type": "execute_result"
    }
   ],
   "source": [
    "ER.cuenta.unique()"
   ]
  },
  {
   "cell_type": "code",
   "execution_count": 14,
   "id": "8613933f-af3f-443c-b3fa-44299a89c70a",
   "metadata": {},
   "outputs": [],
   "source": [
    "df = ER.copy()"
   ]
  },
  {
   "cell_type": "code",
   "execution_count": 16,
   "id": "d0af1548",
   "metadata": {},
   "outputs": [
    {
     "data": {
      "text/html": [
       "<div>\n",
       "<style scoped>\n",
       "    .dataframe tbody tr th:only-of-type {\n",
       "        vertical-align: middle;\n",
       "    }\n",
       "\n",
       "    .dataframe tbody tr th {\n",
       "        vertical-align: top;\n",
       "    }\n",
       "\n",
       "    .dataframe thead th {\n",
       "        text-align: right;\n",
       "    }\n",
       "</style>\n",
       "<table border=\"1\" class=\"dataframe\">\n",
       "  <thead>\n",
       "    <tr style=\"text-align: right;\">\n",
       "      <th></th>\n",
       "      <th>corte</th>\n",
       "      <th>nombre</th>\n",
       "      <th>cuenta</th>\n",
       "      <th>ramo</th>\n",
       "      <th>importe</th>\n",
       "    </tr>\n",
       "  </thead>\n",
       "  <tbody>\n",
       "    <tr>\n",
       "      <th>0</th>\n",
       "      <td>2016-03-31</td>\n",
       "      <td>Crédito Afianzador</td>\n",
       "      <td>Directo</td>\n",
       "      <td>Total</td>\n",
       "      <td>17.68</td>\n",
       "    </tr>\n",
       "    <tr>\n",
       "      <th>1</th>\n",
       "      <td>2016-06-30</td>\n",
       "      <td>Crédito Afianzador</td>\n",
       "      <td>Directo</td>\n",
       "      <td>Total</td>\n",
       "      <td>19.30</td>\n",
       "    </tr>\n",
       "    <tr>\n",
       "      <th>2</th>\n",
       "      <td>2016-09-30</td>\n",
       "      <td>Crédito Afianzador</td>\n",
       "      <td>Directo</td>\n",
       "      <td>Total</td>\n",
       "      <td>21.39</td>\n",
       "    </tr>\n",
       "    <tr>\n",
       "      <th>3</th>\n",
       "      <td>2016-12-31</td>\n",
       "      <td>Crédito Afianzador</td>\n",
       "      <td>Directo</td>\n",
       "      <td>Total</td>\n",
       "      <td>24.54</td>\n",
       "    </tr>\n",
       "    <tr>\n",
       "      <th>4</th>\n",
       "      <td>2017-03-31</td>\n",
       "      <td>Crédito Afianzador</td>\n",
       "      <td>Directo</td>\n",
       "      <td>Total</td>\n",
       "      <td>17.77</td>\n",
       "    </tr>\n",
       "  </tbody>\n",
       "</table>\n",
       "</div>"
      ],
      "text/plain": [
       "       corte              nombre   cuenta   ramo  importe\n",
       "0 2016-03-31  Crédito Afianzador  Directo  Total    17.68\n",
       "1 2016-06-30  Crédito Afianzador  Directo  Total    19.30\n",
       "2 2016-09-30  Crédito Afianzador  Directo  Total    21.39\n",
       "3 2016-12-31  Crédito Afianzador  Directo  Total    24.54\n",
       "4 2017-03-31  Crédito Afianzador  Directo  Total    17.77"
      ]
     },
     "execution_count": 16,
     "metadata": {},
     "output_type": "execute_result"
    }
   ],
   "source": [
    "df.head()"
   ]
  },
  {
   "cell_type": "code",
   "execution_count": 17,
   "id": "d99538b1-b4cd-4732-9527-b4d851e0e610",
   "metadata": {},
   "outputs": [],
   "source": [
    "df['nombre'] = df.nombre.str.replace('?', 'ñ', regex=True)\n",
    "df['cuenta'] = df.cuenta.str.replace('?', 'ñ', regex=True)\n",
    "df['ramo'] = df.ramo.str.replace('*', '', regex=True)\n",
    "df['ramo'] = df.ramo.str.replace('?', 'ñ', regex=True)"
   ]
  }
 ],
 "metadata": {
  "kernelspec": {
   "display_name": "Python 3 (ipykernel)",
   "language": "python",
   "name": "python3"
  },
  "language_info": {
   "codemirror_mode": {
    "name": "ipython",
    "version": 3
   },
   "file_extension": ".py",
   "mimetype": "text/x-python",
   "name": "python",
   "nbconvert_exporter": "python",
   "pygments_lexer": "ipython3",
   "version": "3.9.13"
  }
 },
 "nbformat": 4,
 "nbformat_minor": 5
}
